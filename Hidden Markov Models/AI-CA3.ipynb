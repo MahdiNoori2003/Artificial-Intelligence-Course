{
 "cells": [
  {
   "cell_type": "markdown",
   "metadata": {},
   "source": [
    "<html>\n",
    "<div>\n",
    "  <span style=\"font-family: Poppins; font-size:30px; color: white;\"> <br/> University of Tehran <br/> CA3\n",
    "</div>\n",
    "<span style=\"font-family: Poppins; font-size:15pt; color: white; vertical-align: middle;\"> Mahdi Noori </span><br>\n",
    "<span style=\"font-family: Poppins; font-size:15pt; color: white; vertical-align: middle;\"> 810100231 </span>\n",
    "\n",
    "</html>\n",
    "\n",
    "## Goal\n",
    "in this notebook we learn HMM models and how to use it for sound classification using the features that can be extracted from the audio."
   ]
  },
  {
   "cell_type": "markdown",
   "metadata": {},
   "source": [
    "## Problem Description\n",
    "in this problem we are given several audios in 4 genres (blues, metal, hiphop and pop) and using HMM model we will train a model on the provided dataset for classifying each audio and then analize the model performance.\n",
    "the classification happens based on MFCC of each audio which can provide fairly good information for this classification."
   ]
  },
  {
   "cell_type": "markdown",
   "metadata": {},
   "source": [
    "## Imports"
   ]
  },
  {
   "cell_type": "code",
   "execution_count": 1,
   "metadata": {},
   "outputs": [],
   "source": [
    "import numpy as np\n",
    "from pathlib import Path\n",
    "import glob\n",
    "from helper import extract_mfcc_plot_data,plot_mfcc_heatmap ,mfcc_calculator,confusion_matrix_generator,plot_confusion_matrix,precision_score,recall_score,f1_score,accuracy_score,accuracy_single,precision_single,recall_single,f1_score_single\n",
    "from sklearn.model_selection import train_test_split\n",
    "from sklearn.preprocessing import LabelEncoder,StandardScaler\n",
    "from scipy.stats import multivariate_normal"
   ]
  },
  {
   "cell_type": "markdown",
   "metadata": {},
   "source": [
    "# Section 1: MFCC"
   ]
  },
  {
   "cell_type": "markdown",
   "metadata": {},
   "source": [
    "### Q1 : \n",
    "- Many machine learning models accept fixed-length inputs. by having all samples with the same length we can create a consistent input shape for the model we are using.\n",
    "\n",
    "- When training a model we can process the data in batches and it is a common way for processing. having samples with the same length makes batch processing effecient.\n",
    "\n",
    "- Having samples of the same length makes the preprocessing steps easier. we don't need to consider variable-length sequences.\n",
    "\n",
    "- Because MFCCs often computed over fixed-length audios having inputs with same length helps comparing the extracted feature across dufferent samples."
   ]
  },
  {
   "cell_type": "markdown",
   "metadata": {},
   "source": [
    "### Extracting MFCC coefficients\n",
    "Here for each genre we have :<br>\n",
    "1. using the function ```extract_mfcc_plot_data``` in ```helper.py``` we extract the mfcc coefficeints. this function takes the audio file names and then loads them and then using the ```mfcc_calculator``` also in ```helper.py``` claculates the features for each audio. (note that because the frame sizes are different we cut all audios to the smallest frame size)\n",
    "2. using the function ```plot_mfcc_heatmap``` in ```helper.py``` we plot the heatmap for the first audio of each genre."
   ]
  },
  {
   "cell_type": "code",
   "execution_count": 2,
   "metadata": {},
   "outputs": [
    {
     "ename": "IndexError",
     "evalue": "list index out of range",
     "output_type": "error",
     "traceback": [
      "\u001b[1;31m---------------------------------------------------------------------------\u001b[0m",
      "\u001b[1;31mIndexError\u001b[0m                                Traceback (most recent call last)",
      "Cell \u001b[1;32mIn[2], line 7\u001b[0m\n\u001b[0;32m      5\u001b[0m wav_files \u001b[38;5;241m=\u001b[39m glob\u001b[38;5;241m.\u001b[39mglob(folder_path)\n\u001b[0;32m      6\u001b[0m mfccs_array \u001b[38;5;241m=\u001b[39m extract_mfcc_plot_data(wav_files)\n\u001b[1;32m----> 7\u001b[0m \u001b[43mplot_mfcc_heatmap\u001b[49m\u001b[43m(\u001b[49m\u001b[43mgenre\u001b[49m\u001b[43m,\u001b[49m\u001b[43mmfccs_array\u001b[49m\u001b[43m)\u001b[49m\n",
      "File \u001b[1;32mc:\\Users\\asus\\Desktop\\AI_Proj\\Artificial-Intelligence-Course\\Hidden Markov Models\\helper.py:27\u001b[0m, in \u001b[0;36mplot_mfcc_heatmap\u001b[1;34m(title, mfccs_array)\u001b[0m\n\u001b[0;32m     26\u001b[0m \u001b[38;5;28;01mdef\u001b[39;00m \u001b[38;5;21mplot_mfcc_heatmap\u001b[39m(title, mfccs_array):\n\u001b[1;32m---> 27\u001b[0m     plt\u001b[38;5;241m.\u001b[39mmatshow(\u001b[43mmfccs_array\u001b[49m\u001b[43m[\u001b[49m\u001b[38;5;241;43m0\u001b[39;49m\u001b[43m]\u001b[49m\u001b[38;5;241m.\u001b[39mT, cmap\u001b[38;5;241m=\u001b[39m\u001b[38;5;124m'\u001b[39m\u001b[38;5;124mviridis\u001b[39m\u001b[38;5;124m'\u001b[39m,\n\u001b[0;32m     28\u001b[0m                 origin\u001b[38;5;241m=\u001b[39m\u001b[38;5;124m'\u001b[39m\u001b[38;5;124mlower\u001b[39m\u001b[38;5;124m'\u001b[39m, aspect\u001b[38;5;241m=\u001b[39m\u001b[38;5;124m'\u001b[39m\u001b[38;5;124mauto\u001b[39m\u001b[38;5;124m'\u001b[39m)\n\u001b[0;32m     29\u001b[0m     plt\u001b[38;5;241m.\u001b[39mtitle(\u001b[38;5;124mf\u001b[39m\u001b[38;5;124m'\u001b[39m\u001b[38;5;124mMFCC Heatmap for \u001b[39m\u001b[38;5;132;01m{\u001b[39;00mtitle\u001b[38;5;132;01m}\u001b[39;00m\u001b[38;5;124m'\u001b[39m)\n\u001b[0;32m     30\u001b[0m     plt\u001b[38;5;241m.\u001b[39mxlabel(\u001b[38;5;124m'\u001b[39m\u001b[38;5;124mFrame\u001b[39m\u001b[38;5;124m'\u001b[39m)\n",
      "\u001b[1;31mIndexError\u001b[0m: list index out of range"
     ]
    }
   ],
   "source": [
    "genres_list=[\"blues\",\"metal\",\"hiphop\",\"pop\"]\n",
    "for genre in genres_list:\n",
    "\n",
    "    folder_path = f\"{Path().absolute()}/samples/{genre}/*.wav\"\n",
    "    wav_files = glob.glob(folder_path)\n",
    "    mfccs_array = extract_mfcc_plot_data(wav_files)\n",
    "    plot_mfcc_heatmap(genre,mfccs_array)\n"
   ]
  },
  {
   "cell_type": "markdown",
   "metadata": {},
   "source": [
    "### Q2:\n",
    "using overlapping frames in MFCC helps to get the changes of the audio signal over time, reduce variability, and create a smoother representation that is good enough for different audio analysis tasks."
   ]
  },
  {
   "cell_type": "markdown",
   "metadata": {},
   "source": [
    "### Q3:\n",
    "- The first few MFCCs often capture the most noticable and important features related to the spectral shape and energy distribution of the audio. so by using fewer frames we can reduce the dimensity of features and it can be beneficial for computational time.\n",
    "\n",
    "- By focusing on the first 12 or 13 MFCC, we can capture the most perceptually relevant information and redundant information. because researches have shown that humans are more sensetive to lower-order MFCCs.\n",
    "\n",
    "<!-- Mel filterbank resolution: The Mel filterbank used in the computation of MFCCs is designed to mimic the human auditory system's frequency resolution. The number of Mel filters determines the frequency resolution of the filterbank. By using a smaller number of MFCCs, we effectively limit the frequency resolution and discard higher-frequency components that may have less perceptual relevance or be more sensitive to noise. -->"
   ]
  },
  {
   "cell_type": "markdown",
   "metadata": {},
   "source": [
    "# Section 2: HMM"
   ]
  },
  {
   "cell_type": "markdown",
   "metadata": {},
   "source": [
    "### Q1:\n",
    "- States : unobservable or hidden variables of the system.\n",
    "- Observation : observable variables or evidence that is available to us.<br>\n",
    "\n",
    "Here states are music categories ```blues``` ,```metal``` ,```hiphop``` and ```pop```.\n",
    "Here the observations are derived from the audio signals. the process of obtaining observations involves extracting relevant features from the audio signal. here we are using MFCC for retrieving the features."
   ]
  },
  {
   "cell_type": "markdown",
   "metadata": {},
   "source": [
    "### Q2:\n",
    "It is called first-order because the current state depends only on the previous state. <br>\n",
    "It assumes that the probability of transitioning to a particular state depends only on the previous state. this can be represented as $P(state_t | state_{t-1})$.<br>\n",
    "The difference between each category is in the previous states that it depends on. for example in a second-order model the probability depends on two last states."
   ]
  },
  {
   "cell_type": "markdown",
   "metadata": {},
   "source": [
    "### Q3:\n",
    "HMMs are useful when working with sequential data like a series of events or a time series. They are good at capturing the relationships between these events and can help us understand how things change over time.\n",
    "HMMs are especially helpful when the data we have is not complete or is noisy. HMMs can handle this kind of imperfect data and still make reasonable predictions or estimates based on what we do have. HMMs are beneficial when there are hidden factors or states that affect the observed data.\n",
    "\n",
    "Some of the use cases are :\n",
    "- ```speech recognition``` : HMMs can capture the temporal dependencies in speech signals.\n",
    "\n",
    "- ```NLP``` : HMMs can model the sequential nature of language and capture the dependencies between different words.\n",
    "\n",
    "- ```gesture recognition``` : HMMs can handle noisy and variable-length input sequences making them suitable for gesture recognition tasks.\n",
    "- ```financial time series analysis```:  HMMs can capture the temporal dependencies and provide insights into market behavior."
   ]
  },
  {
   "cell_type": "markdown",
   "metadata": {},
   "source": [
    "### Q4:\n",
    "```Pros```: \n",
    "- HMMs provide a probabilistic framework for modeling sequential data and it can capture the uncertainities and so the model is more robust.\n",
    "- it can capture sequential dependencies in data. so it is useful for time-series data analysis.\n",
    "- HMMs can handle missing data . using the forward-backward algorithm which can estimate the probability distribution of missing states or observations.\n",
    "- HMMs provide a compact representation of the system so it is beneficial for computational resources.<br>\n",
    "\n",
    "```Cons```: \n",
    "- HMMs assume that the observations are conditionally independent given the hidden states. This assumption may not be correct in some real-world scenario.\n",
    "- fixed state space in HMMs can limit the model ability to handle situations where the number or nature of states may change.\n",
    "- HMMs are sensitive to the choice of initial parameters and incorrect initialization may result in convergence to suboptimal.\n",
    "- The model forget the past states as the sequence length increases which can limit its effectiveness in tasks that need a long-term memory."
   ]
  },
  {
   "cell_type": "markdown",
   "metadata": {},
   "source": [
    "### Q5:\n",
    "1. discrete HMM: In a discrete HMM the hidden states and the observations are discrete variables. this means that the hidden states have a finite set of values and the observations also belong to a discrete set. DHMMs are mostly used in applications such as part-of-speech tagging.\n",
    "\n",
    "2. continuous HMM: In a continuous HMM the observations are continuous variables and mostly modeled by probability density functions such as Gaussian distribution. CHMMs are often used in applications involving continuous data, such as speech recognition where features are represented as continuous variables.\n",
    "\n",
    "3. left to right HMM : In this type the model transitions from one state to the next in a fixed left to right order. this type of HMM is useful when the process has a temporal ordering and the system evolves in a sequential manner."
   ]
  },
  {
   "cell_type": "markdown",
   "metadata": {},
   "source": [
    "### Here we make our data set ready for train and test :<br>\n",
    "First get the ```mfcc``` for each file and its corresponding label and add them to our dataset. then we split our data to ```train``` and ```test``` data for each genre using ```sklearn```'s ```train_test_split```. we use $70\\% $ of the data for each genre in training phase and $30\\% $ for testing."
   ]
  },
  {
   "cell_type": "code",
   "execution_count": 4,
   "metadata": {},
   "outputs": [],
   "source": [
    "labels=[\"blues\",\"metal\",\"hiphop\",\"pop\"]\n",
    "train_dict=dict()\n",
    "test_x=np.array([])\n",
    "test_y=np.array([])\n",
    "\n",
    "for label in labels:\n",
    "    X=[]\n",
    "    Y=[]\n",
    "    folder_path = f\"{Path().absolute()}/samples/{label}/*.wav\"\n",
    "    wav_files = glob.glob(folder_path)\n",
    "    for audio_file in wav_files:\n",
    "        mfccs=mfcc_calculator(audio_file)\n",
    "        X.append(mfccs)\n",
    "        Y.append(labels.index(label))\n",
    "    X=np.array(X)\n",
    "    \n",
    "    X_train, X_test, y_train, y_test = train_test_split(X, np.array(Y), test_size=0.3, random_state=42)\n",
    "    train_dict[label]=X_train.reshape((X_train.shape[0]*X_train.shape[1],X_train.shape[2]))\n",
    "    if len(test_x)==0:\n",
    "        test_x=X_test\n",
    "        test_y=y_test\n",
    "    else:\n",
    "        test_x=np.concatenate((test_x, X_test), axis=0)\n",
    "        test_y=np.concatenate((test_y, y_test), axis=0)\n"
   ]
  },
  {
   "cell_type": "markdown",
   "metadata": {},
   "source": [
    "## Implementing with library\n",
    "Here we are using the ```GaussianHMM``` model. we train a model for each genre. each genre will be trained with its corresponding train data."
   ]
  },
  {
   "cell_type": "code",
   "execution_count": 5,
   "metadata": {},
   "outputs": [],
   "source": [
    "from hmmlearn import hmm\n",
    "\n",
    "hmm_models=[]\n",
    "\n",
    "for label in labels:\n",
    "    model = hmm.GaussianHMM(n_components=4, covariance_type='diag')\n",
    "    model.fit(train_dict[label])\n",
    "    hmm_models.append(model)"
   ]
  },
  {
   "cell_type": "markdown",
   "metadata": {},
   "source": [
    "Now for test we label each audio in test data. here we give the audio to all of our models. the one with biggest score would label the data."
   ]
  },
  {
   "cell_type": "code",
   "execution_count": 6,
   "metadata": {},
   "outputs": [],
   "source": [
    "y_preds_library=[]\n",
    "for i in range(test_x.shape[0]):\n",
    "    scores=[]\n",
    "    for model in hmm_models:\n",
    "        scores.append(model.score(test_x[i,:]))\n",
    "    label = np.argmax(np.array(scores))\n",
    "    y_preds_library.append(label)"
   ]
  },
  {
   "cell_type": "markdown",
   "metadata": {},
   "source": [
    "## Implementing from scratch"
   ]
  },
  {
   "cell_type": "code",
   "execution_count": 6,
   "metadata": {},
   "outputs": [],
   "source": [
    "class HMM:\n",
    "    def __init__(self, num_hidden_states):\n",
    "        self.num_hidden_states = num_hidden_states\n",
    "        self.rand_state = np.random.RandomState(1)\n",
    "\n",
    "        self.initial_prob = self._normalize(self.rand_state.rand(self.num_hidden_states, 1))\n",
    "        self.transition_matrix = self._stochasticize(self.rand_state.rand(self.num_hidden_states, self.num_hidden_states))\n",
    "\n",
    "        self.mean = None\n",
    "        self.covariances = None\n",
    "        self.num_dimensions = None\n",
    "\n",
    "    def _forward(self, observation_matrix):\n",
    "        log_likelihood = 0.\n",
    "        T = observation_matrix.shape[1]\n",
    "        alpha = np.zeros(observation_matrix.shape)\n",
    "\n",
    "        for t in range(T):\n",
    "            if t == 0:\n",
    "                alpha[:, t] = observation_matrix[:, 0] * self.initial_prob[:, 0] \n",
    "            else:\n",
    "                alpha[:, t] = np.matmul(self.transition_matrix.T, alpha[:, t-1]) * observation_matrix[:, t]\n",
    "\n",
    "            alpha_sum = np.sum(alpha[:, t])\n",
    "            alpha[:, t] /= alpha_sum\n",
    "            log_likelihood += np.log(alpha_sum)\n",
    "\n",
    "        return log_likelihood, alpha\n",
    "\n",
    "    def _backward(self, observation_matrix):\n",
    "        T = observation_matrix.shape[1]\n",
    "        beta = np.zeros(observation_matrix.shape)\n",
    "\n",
    "        beta[:, -1] = np.ones(observation_matrix.shape[0])\n",
    "\n",
    "        for t in range(T - 1)[::-1]:\n",
    "            beta[:, t] = np.matmul(self.transition_matrix, (observation_matrix[:, t+1] * beta[:, t+1]))\n",
    "            beta[:, t] /= np.sum(beta[:, t])\n",
    "\n",
    "        return beta\n",
    "\n",
    "    def _state_likelihood(self, obs):\n",
    "        obs = np.atleast_2d(obs)\n",
    "        B = np.zeros((self.num_hidden_states, obs.shape[1]))\n",
    "\n",
    "        for s in range(self.num_hidden_states):\n",
    "            np.random.seed(self.rand_state.randint(1))\n",
    "            B[s, :] = multivariate_normal.pdf(obs.T,mean =self.mean[:,s],cov = self.covariances[:,:,s])\n",
    "        return B\n",
    "\n",
    "    def _normalize(self, x):\n",
    "        return (x + (x == 0)) / np.sum(x)\n",
    "\n",
    "    def _stochasticize(self, x):\n",
    "        return (x + (x == 0)) / np.sum(x, axis=1)\n",
    "\n",
    "    def _em_init(self, obs):\n",
    "        if self.num_dimensions is None:\n",
    "            self.num_dimensions = obs.shape[0]\n",
    "        if self.mean is None:\n",
    "            subset = self.rand_state.choice(np.arange(self.num_dimensions), size=self.num_hidden_states, replace=False)\n",
    "            self.mean = obs[:, subset]\n",
    "        if self.covariances is None:\n",
    "            self.covariances = np.zeros((self.num_dimensions, self.num_dimensions, self.num_hidden_states))\n",
    "            self.covariances += np.diag(np.diag(np.cov(obs)))[:, :, None]\n",
    "\n",
    "        return self\n",
    "\n",
    "    def _em_step(self, obs):\n",
    "        obs = np.atleast_2d(obs)\n",
    "        T = obs.shape[1]\n",
    "\n",
    "        B = self._state_likelihood(obs)\n",
    "\n",
    "        log_likelihood, alpha = self._forward(B)\n",
    "        beta = self._backward(B)\n",
    "\n",
    "        xi_sum = np.zeros((self.num_hidden_states, self.num_hidden_states))\n",
    "        gamma = np.zeros((self.num_hidden_states, T))\n",
    "\n",
    "        for t in range(T - 1):\n",
    "            partial_sum = np.sum(np.matmul(alpha[:, t], beta[:, t+1].T)*B[:, t+1])*self.transition_matrix\n",
    "            xi_sum += self._normalize(partial_sum)\n",
    "            partial_g = alpha[:, t] * beta[:, t]\n",
    "            gamma[:, t] = self._normalize(partial_g)\n",
    "        partial_g = alpha[:, T-1] * beta[:, T-1]\n",
    "        gamma[:, -1] = self._normalize(partial_g)\n",
    "\n",
    "        expected_prior = np.reshape(gamma[:, 0],(-1,1))\n",
    "        expected_transition = self._stochasticize(xi_sum/np.sum(xi_sum, axis=(0, 1)))\n",
    "\n",
    "        expected_covariances = np.zeros((self.num_dimensions, self.num_dimensions, self.num_hidden_states))\n",
    "        expected_covariances += .01 * np.eye(self.num_dimensions)[:, :, None]\n",
    "\n",
    "        gamma_state_sum = np.sum(gamma, axis=1)\n",
    "        gamma_state_sum = gamma_state_sum + (gamma_state_sum == 0)\n",
    "\n",
    "        expected_mean = np.zeros((self.num_dimensions, self.num_hidden_states))\n",
    "        for s in range(self.num_hidden_states):\n",
    "            gamma_obs = obs * gamma[s, :]\n",
    "            expected_mean[:, s] = np.sum(gamma_obs, axis=1) / gamma_state_sum[s]\n",
    "\n",
    "        self.initial_prob = expected_prior\n",
    "        self.mean = expected_mean\n",
    "        self.covariances = expected_covariances\n",
    "        self.transition_matrix = expected_transition\n",
    "\n",
    "        return log_likelihood\n",
    "\n",
    "    def train(self, obs, num_iterations=1):\n",
    "        for i in range(num_iterations):\n",
    "            self._em_init(obs)\n",
    "            self._em_step(obs)\n",
    "        return self\n",
    "\n",
    "    def score(self, obs):\n",
    "        B = self._state_likelihood(obs)\n",
    "        log_likelihood, _ = self._forward(B)\n",
    "        return log_likelihood\n"
   ]
  },
  {
   "cell_type": "markdown",
   "metadata": {},
   "source": [
    "Here like above for each genre we train a model and then predict the test data with them."
   ]
  },
  {
   "cell_type": "code",
   "execution_count": 7,
   "metadata": {},
   "outputs": [],
   "source": [
    "hmm_models = []\n",
    "\n",
    "for label in labels:\n",
    "    model = HMM(num_hidden_states=4)\n",
    "    model.train(train_dict[label].T/np.amax(train_dict[label].T),num_iterations=2)\n",
    "    hmm_models.append(model)\n"
   ]
  },
  {
   "cell_type": "code",
   "execution_count": 8,
   "metadata": {},
   "outputs": [],
   "source": [
    "y_preds_scratch=[]\n",
    "for i in range(test_x.shape[0]):\n",
    "    scores=[]\n",
    "    for model in hmm_models:\n",
    "        scores.append(model.score(test_x[i,:].T/np.amax(test_x[i,:].T)))\n",
    "    label = np.argmax(np.array(scores))\n",
    "    y_preds_scratch.append(label)"
   ]
  },
  {
   "cell_type": "markdown",
   "metadata": {},
   "source": [
    "# Analysis of the models\n",
    "\n",
    "In this section we use ```accuracy_score```,```confusion_matrix_generator```,```precision_score```,```recall_score``` and ```f1_score``` in ```helper.py``` for calculating the metrics.\n",
    "- ```confusion_matrix_generator``` : this function recieves the predicted labels and real ones and the number of classes and generates the confusion matrix.\n",
    "- ```accuracy_score``` : his function recieves the predicted labels and real ones and returns the accuracy.\n",
    "- ```precision_score``` : this function recieves the predicted labels and real ones and the number of classes and returns the precision. it can calculate this metric with the desired average method.\n",
    "- ```recall_score``` : this function recieves the predicted labels and real ones and the number of classes and returns the recall. it can calculate this metric with the desired average method.\n",
    "- ```f1_score``` : this function recieves the predicted labels and real ones and the number of classes and returns the f1_score. it can calculate this metric with the desired average method.\n",
    "\n",
    "all of the metrics have a single extension which is for calculating the metrics for single classes."
   ]
  },
  {
   "cell_type": "markdown",
   "metadata": {},
   "source": [
    "### First we anlyze the ```hmmlearn``` model\n"
   ]
  },
  {
   "cell_type": "code",
   "execution_count": 7,
   "metadata": {},
   "outputs": [
    {
     "data": {
      "image/png": "[encoded data removed]",
      "text/plain": [
       "<Figure size 640x480 with 2 Axes>"
      ]
     },
     "metadata": {},
     "output_type": "display_data"
    },
    {
     "name": "stdout",
     "output_type": "stream",
     "text": [
      "The accuracy of the model is 0.78\n",
      "The accuracy in blues class is 0.90\n",
      "The precision in blues class is 0.80\n",
      "The recall in blues class is 0.80\n",
      "The f1_score in blues class is 0.80\n",
      "The accuracy in metal class is 0.93\n",
      "The precision in metal class is 0.89\n",
      "The recall in metal class is 0.80\n",
      "The f1_score in metal class is 0.84\n",
      "The accuracy in hiphop class is 0.85\n",
      "The precision in hiphop class is 0.80\n",
      "The recall in hiphop class is 0.53\n",
      "The f1_score in hiphop class is 0.64\n",
      "The accuracy in pop class is 0.89\n",
      "The precision in pop class is 0.70\n",
      "The recall in pop class is 1.00\n",
      "The f1_score in pop class is 0.82\n",
      "The precision in macro method is 0.80\n",
      "The recall in macro method is 0.78\n",
      "The f1_score in macro method is 0.79\n",
      "The precision in micro method is 0.78\n",
      "The recall in micro method is 0.78\n",
      "The f1_score in micro method is 0.78\n",
      "The precision in weighted method is 0.80\n",
      "The recall in weighted method is 0.78\n",
      "The f1_score in weighted method is 0.79\n"
     ]
    }
   ],
   "source": [
    "cm = confusion_matrix_generator(test_y, np.array(y_preds_library), 4)\n",
    "plot_confusion_matrix(cm, labels, \"Confusion Matrix for Library Implementation\")\n",
    "average_methods=[\"macro\",\"micro\",\"weighted\"]\n",
    "\n",
    "print(f\"The accuracy of the model is {accuracy_score(test_y, np.array(y_preds_library)):.2f}\")\n",
    "\n",
    "for label in labels:\n",
    "    print(f\"The accuracy in {label} class is {accuracy_single(test_y, np.array(y_preds_library), labels.index(label)):.2f}\")\n",
    "    print(f\"The precision in {label} class is {precision_single(test_y, np.array(y_preds_library), labels.index(label)):.2f}\")\n",
    "    print(f\"The recall in {label} class is {recall_single(test_y, np.array(y_preds_library), labels.index(label)):.2f}\")\n",
    "    print(f\"The f1_score in {label} class is {f1_score_single(test_y, np.array(y_preds_library), labels.index(label)):.2f}\")\n",
    "\n",
    "    \n",
    "\n",
    "for method in average_methods:\n",
    "    print(f\"The precision in {method} method is {precision_score(test_y, np.array(y_preds_library), 4, average_method=method):.2f}\")\n",
    "    print(f\"The recall in {method} method is {recall_score(test_y, np.array(y_preds_library), 4, average_method=method):.2f}\")\n",
    "    print(f\"The f1_score in {method} method is {f1_score(test_y, np.array(y_preds_library),  average_method=method):.2f}\")\n"
   ]
  },
  {
   "cell_type": "markdown",
   "metadata": {},
   "source": [
    "### Now for the ```From Scratch``` model"
   ]
  },
  {
   "cell_type": "code",
   "execution_count": 10,
   "metadata": {},
   "outputs": [
    {
     "data": {
      "image/png": "[encoded data removed]",
      "text/plain": [
       "<Figure size 640x480 with 2 Axes>"
      ]
     },
     "metadata": {},
     "output_type": "display_data"
    },
    {
     "name": "stdout",
     "output_type": "stream",
     "text": [
      "The accuracy is 0.68\n",
      "The accuracy in blues class is 0.91\n",
      "The precision in blues class is 0.88\n",
      "The recall in blues class is 0.73\n",
      "The f1_score in blues class is 0.80\n",
      "The accuracy in metal class is 0.83\n",
      "The precision in metal class is 0.61\n",
      "The recall in metal class is 0.90\n",
      "The f1_score in metal class is 0.73\n",
      "The accuracy in hiphop class is 0.77\n",
      "The precision in hiphop class is 0.75\n",
      "The recall in hiphop class is 0.10\n",
      "The f1_score in hiphop class is 0.18\n",
      "The accuracy in pop class is 0.84\n",
      "The precision in pop class is 0.62\n",
      "The recall in pop class is 0.97\n",
      "The f1_score in pop class is 0.75\n",
      "The precision in macro method is 0.72\n",
      "The recall in macro method is 0.68\n",
      "The f1_score in macro method is 0.69\n",
      "The precision in micro method is 0.68\n",
      "The recall in micro method is 0.68\n",
      "The f1_score in micro method is 0.68\n",
      "The precision in weighted method is 0.72\n",
      "The recall in weighted method is 0.68\n",
      "The f1_score in weighted method is 0.69\n"
     ]
    }
   ],
   "source": [
    "cm = confusion_matrix_generator(test_y, np.array(y_preds_scratch), 4)\n",
    "plot_confusion_matrix(cm, labels, \"Confusion Matrix for From Scratch Implementation\")\n",
    "average_methods=[\"macro\",\"micro\",\"weighted\"]\n",
    "\n",
    "print(f\"The accuracy is {accuracy_score(test_y, np.array(y_preds_scratch)):.2f}\")\n",
    "\n",
    "for label in labels:\n",
    "    print(f\"The accuracy in {label} class is {accuracy_single(test_y, np.array(y_preds_scratch), labels.index(label)):.2f}\")\n",
    "    print(f\"The precision in {label} class is {precision_single(test_y, np.array(y_preds_scratch), labels.index(label)):.2f}\")\n",
    "    print(f\"The recall in {label} class is {recall_single(test_y, np.array(y_preds_scratch), labels.index(label)):.2f}\")\n",
    "    print(f\"The f1_score in {label} class is {f1_score_single(test_y, np.array(y_preds_scratch), labels.index(label)):.2f}\")\n",
    "\n",
    "\n",
    "for method in average_methods:\n",
    "    print(f\"The precision in {method} method is {precision_score(test_y, np.array(y_preds_scratch), 4, average_method=method):.2f}\")\n",
    "    print(f\"The recall in {method} method is {recall_score(test_y, np.array(y_preds_scratch), 4, average_method=method):.2f}\")\n",
    "    print(f\"The f1_score in {method} method is {f1_score(test_y, np.array(y_preds_scratch),  average_method=method):.2f}\")\n"
   ]
  },
  {
   "cell_type": "markdown",
   "metadata": {},
   "source": [
    "### Q1:\n",
    "```Accuracy```: Accuracy measures the overall correctness of the model predictions. it is calculated as the ratio of the number of correct predictions to the total number of data. it can be misleading when there is an imbalanced dataset.<br>\n",
    "$$\\ \\text{Accuracy} = \\frac{\\text{TP} + \\text{TN}}{\\text{TP} + \\text{TN} + \\text{FP} + \\text{FN}} \\$$\n",
    "```Percision``` :  Precision measures the proportion of positive predictions made by the model that are actually correct and true. it is calculated as the ratio of true positives to the sum of true positives and false positives. precision is useful when the cost of false positives is high.\n",
    "$$ \\text{Precision} = \\frac{\\text{TP}}{\\text{TP} + \\text{FP}} $$\n",
    "```Recall``` : Recall measures the proportion of actual positive instances that are correctly identified by the model. it is calculated as the ratio of true positives to the sum of true positives and false negatives . a high recall indicates that the model is good at guessing positive datas and has a low rate of false negatives.\n",
    "$$ \\text{Recall} = \\frac{\\text{TP}}{\\text{TP} + \\text{FN}} $$\n",
    "```F1 score```: The f1 score is a harmonic mean of precision and recall providing a metric that balances both of them. it is useful when there is an imbalance between the positive and negative dataclasses.\n",
    "$$ \\text{F1 score} = \\frac{2 \\times (\\text{Precision} \\times \\text{Recall})}{\\text{Precision} + \\text{Recall}} $$\n"
   ]
  },
  {
   "cell_type": "markdown",
   "metadata": {},
   "source": [
    "### Q2:\n",
    "The difference between Recall and Precision is in their focus on different aspects of model performance.<br>\n",
    "Recall measures how well the model identifies the true positive datas.<br>\n",
    "Precision shows the ratio of predicted positive instances that are actually correct.<br>\n",
    "it is important to use both Recall and Precision together because they give us complementary information. on a specific problem and its requirements a high value for one of tham may not show a good model.<br><br>\n",
    "```high Percision example``` : imgine a case that out of 100 patients that we have their records 10 of them are actually healthy. if we design an algorithm that only returns true the Percision score would be 90%.<br>\n",
    "\n",
    "```high Recall example``` : imgine a case that out of 1000 emails that we have only 10 of them are actually spam. if we design an algorithm that only returns true the Recall score would be 100%.<br>"
   ]
  },
  {
   "cell_type": "markdown",
   "metadata": {},
   "source": [
    "### Q3:\n",
    "It uses harmonic mean. the difference is the normal mean is sensitive to extreme values and is good for datas that has been distributed symmetric while the harmonic mean is less sensitive to extreme values and is appropriate for skewed distributions or with rates and ratios.<br>\n",
    "the harmonic mean in the F1 score is used to counter the impact of imbalanced data distributions."
   ]
  },
  {
   "cell_type": "markdown",
   "metadata": {},
   "source": [
    "### Q4:\n",
    "```Macro``` :  Precision and Recall are calculated for each class individually and then the average of these values is taken equally. this means that each class has an equal impact on the final value.\n",
    "$$Macro Precision = \\frac{1}{N} \\sum_{i=1}^{N} Precision_i$$\n",
    "\n",
    "$$Macro Recall = \\frac{1}{N} \\sum_{i=1}^{N} Recall_i$$\n",
    "\n",
    "```Micro``` :  Precision and Recall are calculated using the total number of true positives false positives and false negatives across all classes. the overall Precision and Recall values are then calculated based on these aggregated values. Micro gives equal weight to each instance.\n",
    "$$Micro Precision = \\frac{\\sum_{i=1}^{N} TruePositives_i}{\\sum_{i=1}^{N} (TruePositives_i + FalsePositives_i)}$$\n",
    "\n",
    "$$Micro Recall = \\frac{\\sum_{i=1}^{N} TruePositives_i}{\\sum_{i=1}^{N} (TruePositives_i + FalseNegatives_i)}$$\n",
    "\n",
    "```Weighted``` : similar to Macro but it takes into account the class imbalance by assigning weights to each class. this means that classes with more instances have a higher influence on the final value.\n",
    "$$Weighted Precision = \\frac{1}{\\sum_{i=1}^{N} NumInstances_i} \\sum_{i=1}^{N} (NumInstances_i \\times Precision_i)$$\n",
    "\n",
    "$$Weighted Recall = \\frac{1}{\\sum_{i=1}^{N} NumInstances_i} \\sum_{i=1}^{N} (NumInstances_i \\times Recall_i)$$"
   ]
  },
  {
   "cell_type": "markdown",
   "metadata": {},
   "source": [
    "### Q6:\n",
    "As we discussed earlier the f1_score describes the model behaviour in predicting better but as we can see because both models did almost pretty good job all the metrics are pretty close to each other.\n",
    "another part to mention is that the develped model is doing not as good as the library one and that is mostly shows itself in ```hiphop```. one of the key factors here is that the number of iterations because of the heavy computational overhead is less than the one in the library."
   ]
  },
  {
   "cell_type": "markdown",
   "metadata": {},
   "source": [
    "### Q7:\n",
    "The key differnce is in the structure of each model. as one of the factors we can say that the ```hmmlearn``` model has a convergence monitor that controls when it is in the optima to end the program. but we hard code the iterations. another factor is that because our model is not that efficient we can not use higher number of iterations to train our model better. the other thing that we can mention is that the library model might be using some hyperparameter optimization algorithm that we don't. it might also preprocess the data in a way that it can learn it better. "
   ]
  },
  {
   "cell_type": "markdown",
   "metadata": {},
   "source": [
    "# Conclusion\n",
    "HMMs provide a powerful framework for sound classification enabling the categorization of different sound events. Their successful application in various domains such as speech recognition and environmental sound analysis demonstrates their effectiveness in capturing the temporal characteristics of sound data and making accurate predictions."
   ]
  }
 ],
 "metadata": {
  "kernelspec": {
   "display_name": "venv",
   "language": "python",
   "name": "python3"
  },
  "language_info": {
   "codemirror_mode": {
    "name": "ipython",
    "version": 3
   },
   "file_extension": ".py",
   "mimetype": "text/x-python",
   "name": "python",
   "nbconvert_exporter": "python",
   "pygments_lexer": "ipython3",
   "version": "3.10.5"
  }
 },
 "nbformat": 4,
 "nbformat_minor": 2
}
